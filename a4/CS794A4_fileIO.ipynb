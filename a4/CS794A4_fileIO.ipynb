{
  "nbformat": 4,
  "nbformat_minor": 0,
  "metadata": {
    "colab": {
      "provenance": [],
      "collapsed_sections": []
    },
    "kernelspec": {
      "name": "python3",
      "display_name": "Python 3"
    },
    "language_info": {
      "name": "python"
    }
  },
  "cells": [
    {
      "cell_type": "code",
      "execution_count": 1,
      "metadata": {
        "id": "HwLRoZW83qok"
      },
      "outputs": [],
      "source": [
        "import numpy as np"
      ]
    },
    {
      "cell_type": "code",
      "source": [
        "def load_sudokus(filename):\n",
        "    # Read list of sudokus from local file,\n",
        "    # Filenames can be e.g. 'start_boards.npy', 'ground_truth_solutions.npy'\n",
        "    list_sudokus = np.load(filename,allow_pickle=True)\n",
        "\n",
        "    return list_sudokus\n"
      ],
      "metadata": {
        "id": "PgTcfFLg3vxz"
      },
      "execution_count": 2,
      "outputs": []
    },
    {
      "cell_type": "code",
      "source": [
        "def save_sudokus(list_sudokus,filename):\n",
        "    # Optional helper function, saves list of sudokus to file ('.npy').\n",
        "    np.save(filename, list_sudokus, allow_pickle=True)\n",
        "    return"
      ],
      "metadata": {
        "id": "3wYo7tJT3zct"
      },
      "execution_count": 3,
      "outputs": []
    },
    {
      "cell_type": "code",
      "source": [
        "def compare_sudokus(alg_output_sudokus,ground_truth_sudokus):\n",
        "    \"\"\"\n",
        "    This function compares the list of final boards solved by your implementation with the list of ground truth solutions\n",
        "    \"\"\"\n",
        "    n = len(alg_output_sudokus)\n",
        "    m = len(ground_truth_sudokus)\n",
        "    assert n == m\n",
        "\n",
        "    for i in range(n):\n",
        "        print(\"Sudoku number:\",i)\n",
        "        if np.array_equal(alg_output_sudokus[i],ground_truth_sudokus[i]):\n",
        "            print(\"Correct!\")\n",
        "        else:\n",
        "            print(\"Wrong\")\n",
        "\n"
      ],
      "metadata": {
        "id": "Txlc3H_p31wS"
      },
      "execution_count": 4,
      "outputs": []
    },
    {
      "cell_type": "markdown",
      "source": [
        "# An example of read/execute and compare will look like this:"
      ],
      "metadata": {
        "id": "_oK8aVmI4G2H"
      }
    },
    {
      "cell_type": "code",
      "source": [
        "start_boards = load_sudokus('sample_start_boards.npy')\n",
        "ground_truth_solutions = load_sudokus('sample_solutions.npy')\n",
        "my_solution = []\n",
        "for start_board in start_boards:\n",
        "    answer = my_algorithm(start_board)\n",
        "    my_solution.append(answer)\n",
        "\n",
        "compare_sudokus(my_solution,ground_truth_solutions)\n"
      ],
      "metadata": {
        "id": "F0SjQE6h37Fo"
      },
      "execution_count": null,
      "outputs": []
    },
    {
      "cell_type": "markdown",
      "source": [
        "The above code is for you to test your own implementation and help you implement. For grading, we will evaluate your algorithms on new unseen sudokus."
      ],
      "metadata": {
        "id": "uT2Vzryh4ZXJ"
      }
    },
    {
      "cell_type": "code",
      "source": [],
      "metadata": {
        "id": "dTaMxnvj4uIN"
      },
      "execution_count": null,
      "outputs": []
    }
  ]
}