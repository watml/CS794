{
  "nbformat": 4,
  "nbformat_minor": 0,
  "metadata": {
    "colab": {
      "provenance": [],
      "collapsed_sections": []
    },
    "kernelspec": {
      "name": "python3",
      "display_name": "Python 3"
    },
    "language_info": {
      "name": "python"
    }
  },
  "cells": [
    {
      "cell_type": "code",
      "execution_count": 1,
      "metadata": {
        "id": "Xvjm602d5iW-"
      },
      "outputs": [],
      "source": [
        "import numpy as np\n",
        "import math"
      ]
    },
    {
      "cell_type": "markdown",
      "source": [
        "# You might find the functions in this notebook helpful for your implementation."
      ],
      "metadata": {
        "id": "3HkjaGIB5w4J"
      }
    },
    {
      "cell_type": "markdown",
      "source": [
        "## Printing"
      ],
      "metadata": {
        "id": "0D8iWwOy6EzX"
      }
    },
    {
      "cell_type": "code",
      "source": [
        "def print_sudoku(board_2d_int_arr):\n",
        "    X = board_2d_int_arr\n",
        "    r,c = X.shape\n",
        "    a = int(math.sqrt(r))\n",
        "    assert r == c\n",
        "    assert type(X) == np.ndarray\n",
        "    assert a**2 == r \n",
        "    assert isinstance(X[0][0].item(),int)\n",
        "    \n",
        "    # Convert array elements to strings\n",
        "    board_str = X.astype(str)\n",
        "    \n",
        "    # Our row separator\n",
        "    row_sep = '-'*25\n",
        "\n",
        "    # Loop through 9 rows\n",
        "    for i in range(r):\n",
        "        \n",
        "        # At each multiple of 3, print row separator\n",
        "        if i % a == 0:\n",
        "            print(row_sep)\n",
        "\n",
        "        # Get row data\n",
        "        row = board_str[i]\n",
        "\n",
        "        # Format row of data with pipe separators at each end, and between each sub grid\n",
        "        print('| '+' '.join(row[0:a])+' | '+' '.join(row[a:2*a])+' | '+' '.join(row[2*a:])+' |')\n",
        "\n",
        "    # Print final row separator at bottom after loops finish\n",
        "    print(row_sep)"
      ],
      "metadata": {
        "id": "SBQcNXME5okv"
      },
      "execution_count": 2,
      "outputs": []
    },
    {
      "cell_type": "code",
      "source": [
        "board = np.zeros(shape=(9,9),dtype=int)\n",
        "board[0,:] = [1,9,2,4,6,8,5,7,3]\n",
        "board[1,:] = [8,5,3,1,2,7,4,9,6] \n",
        "board[2,:] = [7,6,4,9,5,3,8,1,2]\n",
        "board[3,:] = [5,8,9,7,3,6,1,2,4]\n",
        "board[4,:] = [4,7,1,8,9,2,3,6,5]\n",
        "board[5,:] = [2,3,6,5,4,1,7,8,9]\n",
        "board[6,:] = [9,1,5,6,7,4,2,3,8]\n",
        "board[7,:] = [3,4,7,2,8,9,6,5,1]\n",
        "board[8,:] = [6,2,8,3,1,5,9,4,7]"
      ],
      "metadata": {
        "id": "8xxgUIzK6Hvv"
      },
      "execution_count": 3,
      "outputs": []
    },
    {
      "cell_type": "code",
      "source": [
        "print_sudoku(board)"
      ],
      "metadata": {
        "colab": {
          "base_uri": "https://localhost:8080/"
        },
        "id": "q2sh_eKs6Ibp",
        "outputId": "2af1f1d0-db6d-449d-817d-95f54614fdc4"
      },
      "execution_count": 4,
      "outputs": [
        {
          "output_type": "stream",
          "name": "stdout",
          "text": [
            "-------------------------\n",
            "| 1 9 2 | 4 6 8 | 5 7 3 |\n",
            "| 8 5 3 | 1 2 7 | 4 9 6 |\n",
            "| 7 6 4 | 9 5 3 | 8 1 2 |\n",
            "-------------------------\n",
            "| 5 8 9 | 7 3 6 | 1 2 4 |\n",
            "| 4 7 1 | 8 9 2 | 3 6 5 |\n",
            "| 2 3 6 | 5 4 1 | 7 8 9 |\n",
            "-------------------------\n",
            "| 9 1 5 | 6 7 4 | 2 3 8 |\n",
            "| 3 4 7 | 2 8 9 | 6 5 1 |\n",
            "| 6 2 8 | 3 1 5 | 9 4 7 |\n",
            "-------------------------\n"
          ]
        }
      ]
    },
    {
      "cell_type": "markdown",
      "source": [
        "## Check if the current board is a valid sudoku"
      ],
      "metadata": {
        "id": "qQSWnI_46f5E"
      }
    },
    {
      "cell_type": "code",
      "source": [
        "def block_to_coordinate(id,k):\n",
        "    # Takes in the block number id, and the kth element in that block,\n",
        "    # Output the coordinate of that cell.\n",
        "    assert(isinstance(id,int))\n",
        "    assert(isinstance(k,int))\n",
        "\n",
        "    a = id // 3\n",
        "    b = id % 3\n",
        "\n",
        "    i = 3*a + (k//3)\n",
        "    j = 3*b + (k%3)\n",
        "\n",
        "    return (i,j)\n"
      ],
      "metadata": {
        "id": "rE6tQgKF6uj-"
      },
      "execution_count": 5,
      "outputs": []
    },
    {
      "cell_type": "code",
      "source": [
        "def check_board(input_board):\n",
        "    \"\"\"Check if the current board is a valid finished sudoku\"\"\"\n",
        "    X = input_board\n",
        "    r,c = X.shape\n",
        "    n = r\n",
        "    a = int(math.sqrt(r))\n",
        "    assert r == c\n",
        "    assert type(X) == np.ndarray\n",
        "    assert a**2 == r\n",
        "    assert isinstance(X[0][0].item(),int)\n",
        "\n",
        "\n",
        "    flag = True\n",
        "    for row in range(r):\n",
        "        if len(np.unique(X[row])) != len(X[row]):\n",
        "            flag = False\n",
        "            # print(\"row is wrong:\",row)\n",
        "\n",
        "    for col in range(c):\n",
        "        if len(np.unique(X[:,col])) != len(X[:,col]):\n",
        "            flag = False\n",
        "            # print(\"col is wrong:\",col)\n",
        "    \n",
        "    for block_id in range(n):\n",
        "        temp_arr = np.zeros(n,dtype=int)\n",
        "        for k in range(n):\n",
        "            r_idx, c_idx = block_to_coordinate(block_id,k)\n",
        "            temp_arr[k] = X[r_idx][c_idx]\n",
        "        if len(np.unique(temp_arr)) != len(temp_arr):\n",
        "            flag = False\n",
        "            # print(\"block is wrong:\",block_id)\n",
        "\n",
        "    return flag\n"
      ],
      "metadata": {
        "id": "u8O3gvTZ6p9P"
      },
      "execution_count": 6,
      "outputs": []
    },
    {
      "cell_type": "code",
      "source": [
        "check_board(board)"
      ],
      "metadata": {
        "colab": {
          "base_uri": "https://localhost:8080/"
        },
        "id": "2p60zalr9CO_",
        "outputId": "90a8d3d9-4ee1-424a-e876-aaa470789feb"
      },
      "execution_count": 7,
      "outputs": [
        {
          "output_type": "execute_result",
          "data": {
            "text/plain": [
              "True"
            ]
          },
          "metadata": {},
          "execution_count": 7
        }
      ]
    },
    {
      "cell_type": "code",
      "source": [
        "board2 = np.zeros(shape=(9,9),dtype=int)\n",
        "board2[0,:] = [1,9,2,4,6,8,5,7,3]\n",
        "board2[1,:] = [8,5,3,1,2,7,4,9,6] \n",
        "board2[2,:] = [7,6,4,9,5,3,8,1,2]\n",
        "board2[3,:] = [5,8,9,7,3,6,1,2,4]\n",
        "board2[4,:] = [4,7,1,8,9,2,3,6,5]\n",
        "board2[5,:] = [2,3,6,5,4,1,7,8,9]\n",
        "board2[6,:] = [9,1,5,6,7,4,2,3,8]\n",
        "board2[7,:] = [3,4,7,2,8,9,7,5,1]\n",
        "board2[8,:] = [6,2,8,3,1,5,9,4,7]\n",
        "# Here we changed the 8th row, 7th column (indexed from 1 to 9) element from 6 to 7."
      ],
      "metadata": {
        "id": "s0Y1RGse9pB2"
      },
      "execution_count": 8,
      "outputs": []
    },
    {
      "cell_type": "code",
      "source": [
        "check_board(board2)"
      ],
      "metadata": {
        "colab": {
          "base_uri": "https://localhost:8080/"
        },
        "id": "RG7eDTNL9s0f",
        "outputId": "de8c50bc-cab1-4df2-ed27-b6c53af8af79"
      },
      "execution_count": 9,
      "outputs": [
        {
          "output_type": "execute_result",
          "data": {
            "text/plain": [
              "False"
            ]
          },
          "metadata": {},
          "execution_count": 9
        }
      ]
    },
    {
      "cell_type": "markdown",
      "source": [
        "## Helper functions that relate to 3d probability vector representation of a sudoku board"
      ],
      "metadata": {
        "id": "1xzfvFM77NWc"
      }
    },
    {
      "cell_type": "code",
      "source": [
        "def to_onehot(int_x,n=9):\n",
        "    \"\"\" Convert integer x between 1 and 9 to its one-hot probablity vector encoding. \"\"\"\n",
        "\n",
        "    assert 1 <= int_x and int_x <= n\n",
        "    onehot_vec = np.zeros(n)\n",
        "    onehot_vec[int_x-1] = 1\n",
        "    return onehot_vec"
      ],
      "metadata": {
        "id": "QEZhyssA6LHz"
      },
      "execution_count": 10,
      "outputs": []
    },
    {
      "cell_type": "code",
      "source": [
        "def convert_to_3d_repr(nonzero_board):\n",
        "    \"\"\"This function converts board with all NONZERO entries to 3d probability representation. \"\"\"\n",
        "\n",
        "    r,c = nonzero_board.shape\n",
        "    n = r\n",
        "    a = int(math.sqrt(r))\n",
        "    assert r == c\n",
        "    assert type(nonzero_board) == np.ndarray\n",
        "    assert a**2 == r \n",
        "\n",
        "    prob_3d_arr = np.zeros(shape=(r,c,n))\n",
        "\n",
        "    for i in range(r):\n",
        "        for j in range(c):\n",
        "            prob_3d_arr[i][j] = to_onehot(nonzero_board[i][j])\n",
        "\n",
        "    return prob_3d_arr\n"
      ],
      "metadata": {
        "id": "ed0NcU5m7aeb"
      },
      "execution_count": 11,
      "outputs": []
    },
    {
      "cell_type": "code",
      "source": [
        "def convert_to_board(prob_3d_arr):\n",
        "    \"\"\"This function converts a 3d probability vector representation back to the normal 2d board representation\"\"\"\n",
        "    \n",
        "    X = prob_3d_arr\n",
        "    assert type(X) == np.ndarray\n",
        "    r,c,n = X.shape\n",
        "    assert r == c and c == n\n",
        "\n",
        "    board = np.zeros(shape=(r,c), dtype=int)\n",
        "\n",
        "    for i in range(r):\n",
        "        for j in range(c):\n",
        "            prob_vec = X[i][j]\n",
        "            num = np.argmax(prob_vec)+1\n",
        "            board[i][j] = num\n",
        "\n",
        "    return board\n"
      ],
      "metadata": {
        "id": "7MSeyBxB7jUn"
      },
      "execution_count": 12,
      "outputs": []
    },
    {
      "cell_type": "markdown",
      "source": [
        "### If you want to convert an initial board (with possibly many zero entries) to a 3d probability representation, you may find the following function helpful"
      ],
      "metadata": {
        "id": "_tayqrzN762n"
      }
    },
    {
      "cell_type": "code",
      "source": [
        "def init_from_board(start_board):\n",
        "    \"\"\"Initialize probability 3d representation from a given board (2d).\n",
        "    Given 'clue' cells are converted to one-hot encoding.\n",
        "    Empty 'unkown' cells are converted to a uniformly random encoding over possible values, for example,\n",
        "    an empty cell that can take values in {1,4,5,8} is converted to [0.25,0,0,0.25,0.25,0,0,0.25,0]\n",
        "    \n",
        "    \"\"\"\n",
        "\n",
        "    X = start_board\n",
        "    r,c = X.shape\n",
        "    n = r\n",
        "    a = int(math.sqrt(r))\n",
        "    assert r == c\n",
        "    assert type(X) == np.ndarray\n",
        "    assert a**2 == r \n",
        "\n",
        "    temp_3d_arr = np.ones(shape=(r,c,n))\n",
        "    prob_3d_arr = np.ones(shape=(r,c,n))\n",
        "\n",
        "    # First pass converts the nonzero entries to one-hot encodings, and\n",
        "    # Set the correpsonding entries of temp_arr in same row/column/block to 0\n",
        "    for i in range(r):\n",
        "        for j in range(c):\n",
        "            val = X[i][j]\n",
        "            if val != 0:\n",
        "                prob_3d_arr[i][j] = to_onehot(val)\n",
        "                for k in range(n):\n",
        "                    assert(isinstance(k,int))\n",
        "                    temp_3d_arr[i][k][val-1] = 0  # set the entry in same row to have zero corresponding element\n",
        "                    temp_3d_arr[k][j][val-1] = 0  # set the entry in same column to have zero corresponding element\n",
        "\n",
        "                    # for same box\n",
        "                    a = i // 3\n",
        "                    b = j // 3\n",
        "                    row_start_idx = 3*a\n",
        "                    col_start_idx = 3*b\n",
        "\n",
        "                    temp_3d_arr[row_start_idx+(k//3)][col_start_idx+(k%3)][val-1] = 0\n",
        "\n",
        "    # Second pass normalizes the zero entries' corresponding vector to probability vector and assign it to prob_3d_arr\n",
        "    for i in range(r):\n",
        "        for j in range(c):\n",
        "            val = X[i][j]\n",
        "            if val == 0:\n",
        "                prob_3d_arr[i][j] = temp_3d_arr[i][j]/np.sum(temp_3d_arr[i][j])\n",
        "\n",
        "    return prob_3d_arr\n",
        "\n"
      ],
      "metadata": {
        "id": "hlaTwgXh8H3_"
      },
      "execution_count": 13,
      "outputs": []
    }
  ]
}