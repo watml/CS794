{
 "cells": [
  {
   "cell_type": "code",
   "execution_count": 18,
   "metadata": {
    "id": "Q5DV2IkSJyJ8"
   },
   "outputs": [],
   "source": [
    "import numpy as np"
   ]
  },
  {
   "cell_type": "markdown",
   "metadata": {
    "id": "1vD9eGvLq_wM"
   },
   "source": [
    "# Perceptron Algorithm"
   ]
  },
  {
   "cell_type": "code",
   "execution_count": 14,
   "metadata": {
    "code_folding": [],
    "id": "ZWERW3aUJzve"
   },
   "outputs": [],
   "source": [
    "def Perceptron_alg(X,y,w_0,b_0,delta=0,max_iter=100):\n",
    "    \"\"\"\n",
    "    Run perceptron algorithm to find a linear separator (if any) of the dataset.  \n",
    "\n",
    "    Inputs:\n",
    "        X: n by d data matrix, each row (e.g., X[i]) represents a data point (with d features), each column is a feature\n",
    "        y: 1d array of labels, either +1 or -1\n",
    "        w_0: initial weights\n",
    "        b_0: initial bias\n",
    "        delta: minimum threshold/margin/tolerance, must be non-negative, default is set to zero\n",
    "        max_iter: maximum number of passes/rounds to run over the whole dataset\n",
    "  \n",
    "    Outputs:\n",
    "        Solution w (weight) and b (bias), which in together gives the linear separator <w,x>+b=0\n",
    "\n",
    "    \"\"\"\n",
    "    n,d = X.shape\n",
    "    w = w_0\n",
    "    b = b_0\n",
    "    for t in range(max_iter):\n",
    "        idx_list = np.arange(n)\n",
    "        np.random.shuffle(idx_list)\n",
    "        num_mistakes = 0\n",
    "        for i in idx_list:\n",
    "            if y[i] * (np.dot(w,X[i]) + b) <= delta:\n",
    "                w = w + y[i] * X[i]\n",
    "                b = b + y[i]\n",
    "                num_mistakes += 1\n",
    "        if num_mistakes == 0:\n",
    "            break\n",
    "    return w, b\n"
   ]
  },
  {
   "cell_type": "markdown",
   "metadata": {
    "id": "DZNkw1F0rCUt"
   },
   "source": [
    "# A 2d example"
   ]
  },
  {
   "cell_type": "code",
   "execution_count": 15,
   "metadata": {
    "id": "IiRxEyJsOMsk"
   },
   "outputs": [],
   "source": [
    "import matplotlib.pyplot as plt"
   ]
  },
  {
   "cell_type": "code",
   "execution_count": 16,
   "metadata": {
    "colab": {
     "base_uri": "https://localhost:8080/",
     "height": 297
    },
    "id": "JSOQpRhvP7Lo",
    "outputId": "2cb63f8a-f6ef-4f99-ec6f-67f96e33cd44"
   },
   "outputs": [
    {
     "data": {
      "image/png": "[encoded data removed]",
      "text/plain": [
       "<Figure size 432x288 with 1 Axes>"
      ]
     },
     "metadata": {
      "needs_background": "light"
     },
     "output_type": "display_data"
    },
    {
     "name": "stdout",
     "output_type": "stream",
     "text": [
      "w is [11.6014244   6.81669103] and b is -4.0\n"
     ]
    }
   ],
   "source": [
    "# Generate an artificial 2d separable dataset\n",
    "# The dataset is separated by 2x_1 + x_2 - 1 = 0\n",
    "np.random.seed(0)\n",
    "X = np.random.uniform(-5,5,(100,2))\n",
    "y = np.zeros(100)\n",
    "for i in range(100):\n",
    "    if np.dot(X[i],np.array([2,1]))-1 > 0:\n",
    "        y[i] = 1\n",
    "    else:\n",
    "        y[i] = -1\n",
    "\n",
    "# Scatter plot the data points\n",
    "pos_idx = (y[:] == 1)\n",
    "neg_idx = (y[:] == -1)\n",
    "X_pos = X[pos_idx] \n",
    "X_neg = X[neg_idx] \n",
    "plt.scatter(X_pos[:,0],X_pos[:,1],marker='+',c='r')\n",
    "plt.scatter(X_neg[:,0],X_neg[:,1],marker='_',c='g')\n",
    "\n",
    "# Run peceptron to find the linear separator and plot it\n",
    "w_0 = np.zeros(2)\n",
    "b_0 = 0\n",
    "w, b = Perceptron_alg(X,y,w_0,b_0,delta=0,max_iter=100)\n",
    "x1 = np.linspace(-5,5,100)\n",
    "x2 = (-b-w[0]*x1)/w[1]\n",
    "plt.plot(x1,x2,c='k')\n",
    "plt.xlabel('x1')\n",
    "plt.ylabel('x2')\n",
    "plt.show()\n",
    "\n",
    "# We can also print out w and b\n",
    "print(\"w is\", w, \"and b is\",b)"
   ]
  },
  {
   "cell_type": "code",
   "execution_count": null,
   "metadata": {
    "id": "g7eQ1uwIR_Ov"
   },
   "outputs": [],
   "source": []
  }
 ],
 "metadata": {
  "colab": {
   "provenance": []
  },
  "kernelspec": {
   "display_name": "Python 3",
   "language": "python",
   "name": "python3"
  },
  "language_info": {
   "codemirror_mode": {
    "name": "ipython",
    "version": 3
   },
   "file_extension": ".py",
   "mimetype": "text/x-python",
   "name": "python",
   "nbconvert_exporter": "python",
   "pygments_lexer": "ipython3",
   "version": "3.8.8"
  },
  "varInspector": {
   "cols": {
    "lenName": 16,
    "lenType": 16,
    "lenVar": 40
   },
   "kernels_config": {
    "python": {
     "delete_cmd_postfix": "",
     "delete_cmd_prefix": "del ",
     "library": "var_list.py",
     "varRefreshCmd": "print(var_dic_list())"
    },
    "r": {
     "delete_cmd_postfix": ") ",
     "delete_cmd_prefix": "rm(",
     "library": "var_list.r",
     "varRefreshCmd": "cat(var_dic_list()) "
    }
   },
   "types_to_exclude": [
    "module",
    "function",
    "builtin_function_or_method",
    "instance",
    "_Feature"
   ],
   "window_display": false
  }
 },
 "nbformat": 4,
 "nbformat_minor": 1
}
